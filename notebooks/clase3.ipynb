{
 "cells": [
  {
   "cell_type": "code",
   "execution_count": 18,
   "id": "ca5cadca-5656-459a-ad0d-acb6a31c1094",
   "metadata": {},
   "outputs": [
    {
     "name": "stdin",
     "output_type": "stream",
     "text": [
      "Ingrese un numero:  10008\n"
     ]
    },
    {
     "name": "stdout",
     "output_type": "stream",
     "text": [
      "*\n",
      "*\n",
      "*\n",
      "No es PRIMO\n"
     ]
    }
   ],
   "source": [
    "N = int( input(\"Ingrese un numero: \") )\n",
    "multiplos = 0\n",
    "isPrime = True\n",
    "\n",
    "for i in range(1,N+1):\n",
    "    robrante = N % i\n",
    "    if robrante == 0:\n",
    "        multiplos += 1\n",
    "        print(\"*\")\n",
    "    if multiplos > 2:\n",
    "        isPrime = False\n",
    "        break\n",
    "\n",
    "if isPrime:\n",
    "    print(\"Es PRIMO\")\n",
    "else:\n",
    "    print(\"No es PRIMO\")"
   ]
  },
  {
   "cell_type": "code",
   "execution_count": 19,
   "id": "90406cc3-ffd9-4458-9bdd-2efc460f61dd",
   "metadata": {},
   "outputs": [
    {
     "name": "stdout",
     "output_type": "stream",
     "text": [
      "1\n",
      "3\n",
      "5\n",
      "7\n",
      "9\n",
      "11\n",
      "13\n",
      "15\n",
      "17\n",
      "19\n",
      "21\n",
      "23\n",
      "25\n",
      "27\n",
      "29\n",
      "31\n",
      "33\n",
      "35\n",
      "37\n",
      "39\n",
      "41\n",
      "43\n",
      "45\n",
      "47\n",
      "49\n",
      "51\n",
      "53\n",
      "55\n",
      "57\n",
      "59\n",
      "61\n",
      "63\n",
      "65\n",
      "67\n",
      "69\n",
      "71\n",
      "73\n",
      "75\n",
      "77\n",
      "79\n",
      "81\n",
      "83\n",
      "85\n",
      "87\n",
      "89\n",
      "91\n",
      "93\n",
      "95\n",
      "97\n",
      "99\n"
     ]
    }
   ],
   "source": [
    "for i in range(1,100):\n",
    "    if i % 2 == 0:\n",
    "        continue\n",
    "    print(i)"
   ]
  },
  {
   "cell_type": "code",
   "execution_count": 26,
   "id": "ad3a43a3-704b-4861-b13e-9de7b98b7574",
   "metadata": {},
   "outputs": [
    {
     "name": "stdout",
     "output_type": "stream",
     "text": [
      "A\n",
      "B\n",
      "C\n"
     ]
    }
   ],
   "source": [
    "numeros = [\"A\",\"B\",\"C\"]\n",
    "\n",
    "size = len(numeros)\n",
    "for i in range(0,size):\n",
    "    print( numeros[i] )"
   ]
  },
  {
   "cell_type": "code",
   "execution_count": 27,
   "id": "4019ef1d-d544-4d4f-afe1-c04d7f87bb61",
   "metadata": {},
   "outputs": [
    {
     "name": "stdout",
     "output_type": "stream",
     "text": [
      "A\n",
      "B\n",
      "C\n"
     ]
    }
   ],
   "source": [
    "numeros = [\"A\",\"B\",\"C\"]\n",
    "for i in numeros:\n",
    "    print(i)"
   ]
  },
  {
   "cell_type": "code",
   "execution_count": 28,
   "id": "df48d231-d5e6-43eb-9f57-295192f9b9ea",
   "metadata": {},
   "outputs": [
    {
     "name": "stdout",
     "output_type": "stream",
     "text": [
      "0\n",
      "1\n",
      "1\n",
      "2\n",
      "3\n",
      "5\n",
      "8\n",
      "13\n",
      "21\n",
      "34\n",
      "55\n",
      "89\n",
      "144\n",
      "233\n",
      "377\n",
      "610\n",
      "987\n",
      "1597\n",
      "2584\n",
      "4181\n"
     ]
    }
   ],
   "source": [
    "N = 20\n",
    "\n",
    "n1 = 0\n",
    "n2 = 1\n",
    "print(n1)\n",
    "print(n2)\n",
    "\n",
    "for i in range(0,N-2):\n",
    "    s = n1 + n2\n",
    "    n1 = n2\n",
    "    n2 = s\n",
    "    print(s)"
   ]
  },
  {
   "cell_type": "code",
   "execution_count": 40,
   "id": "20e69ef0-a10e-4374-8425-5bb94cf9569a",
   "metadata": {},
   "outputs": [],
   "source": [
    "personas = [\"Mario\",\"Luigi\",\"Bowser\",\"Boo\",\"Peach\"]\n",
    "personas.append(\"Warrio\")"
   ]
  },
  {
   "cell_type": "code",
   "execution_count": 41,
   "id": "300ce10d-b8fe-4a62-980e-e84b2076ed82",
   "metadata": {},
   "outputs": [
    {
     "data": {
      "text/plain": [
       "['Mario', 'Luigi', 'Bowser', 'Boo', 'Peach', 'Warrio']"
      ]
     },
     "execution_count": 41,
     "metadata": {},
     "output_type": "execute_result"
    }
   ],
   "source": [
    "personas"
   ]
  },
  {
   "cell_type": "code",
   "execution_count": 42,
   "id": "483e409f-f675-4982-adae-0143ea3b9a6d",
   "metadata": {},
   "outputs": [
    {
     "data": {
      "text/plain": [
       "['Mario', 'Hongo', 'Luigi', 'Bowser', 'Boo', 'Peach', 'Warrio']"
      ]
     },
     "execution_count": 42,
     "metadata": {},
     "output_type": "execute_result"
    }
   ],
   "source": [
    "personas.insert(1,\"Hongo\")\n",
    "personas"
   ]
  },
  {
   "cell_type": "code",
   "execution_count": 43,
   "id": "4c9e9840-9cfe-4004-b80d-ebbdc53a9fc8",
   "metadata": {},
   "outputs": [
    {
     "data": {
      "text/plain": [
       "7"
      ]
     },
     "execution_count": 43,
     "metadata": {},
     "output_type": "execute_result"
    }
   ],
   "source": [
    "len( personas )"
   ]
  },
  {
   "cell_type": "code",
   "execution_count": 44,
   "id": "930534ef-2a25-48e0-9d3a-58f7d25098b3",
   "metadata": {},
   "outputs": [
    {
     "name": "stdout",
     "output_type": "stream",
     "text": [
      "[0, 1, 1, 2, 3, 5, 8, 13, 21, 34, 55, 89, 144, 233, 377, 610, 987, 1597, 2584, 4181]\n"
     ]
    }
   ],
   "source": [
    "N = 20\n",
    "secuencia = [0,1]\n",
    "\n",
    "for i in range(0,N-2):\n",
    "    secuencia.append( secuencia[-1] + secuencia[-2] )\n",
    "\n",
    "print(secuencia)"
   ]
  },
  {
   "cell_type": "code",
   "execution_count": 49,
   "id": "e976d7de-3d5f-4591-914f-ea85031913ea",
   "metadata": {},
   "outputs": [
    {
     "name": "stdout",
     "output_type": "stream",
     "text": [
      "['Mario', 'Luigi', 'Boo', 'Peach', 'Warrio']\n",
      "['Mario', 'Boo', 'Peach', 'Warrio']\n"
     ]
    }
   ],
   "source": [
    "personas = [\"Mario\",\"Luigi\",\"Bowser\",\"Boo\",\"Peach\",\"Warrio\"]\n",
    "\n",
    "personas.remove(\"Bowser\")\n",
    "\n",
    "print(personas)\n",
    "\n",
    "personas.pop(1)\n",
    "\n",
    "print(personas)"
   ]
  },
  {
   "cell_type": "code",
   "execution_count": 53,
   "id": "e896181e-eeb9-46e6-8103-fd9f539915b0",
   "metadata": {},
   "outputs": [
    {
     "name": "stdout",
     "output_type": "stream",
     "text": [
      "SI\n"
     ]
    }
   ],
   "source": [
    "if \"Boo\" in personas:\n",
    "    print(\"SI\")\n",
    "else:\n",
    "    print(\"NO\")"
   ]
  },
  {
   "cell_type": "code",
   "execution_count": 73,
   "id": "b1fbbb77-0b7e-483b-ba9b-2949266ea1ad",
   "metadata": {},
   "outputs": [
    {
     "name": "stdout",
     "output_type": "stream",
     "text": [
      "P: 9.9876%\n"
     ]
    }
   ],
   "source": [
    "import random\n",
    "\n",
    "# ejecutar N veces\n",
    "N = 1000000\n",
    "exitos = 0\n",
    "\n",
    "for i in range(0,N):\n",
    "    # tener una lista con 6 balotas : 3N y 3R\n",
    "    bolsa = [ \"R\", \"R\", \"R\", \"N\", \"N\", \"N\" ]\n",
    "    # seleccionar 3 balotas al azar\n",
    "    seleccion = random.sample( bolsa, 3 )\n",
    "    # validar que las 3 seleccionadas son iguales\n",
    "    if seleccion[0] == seleccion[1] and seleccion[1] == seleccion[2]:\n",
    "        # si son iguales incrementar un contador\n",
    "        exitos += 1 \n",
    "    \n",
    "# calcular la probabilidad\n",
    "probabilidad = exitos*100/N\n",
    "print(f\"P: {probabilidad}%\")"
   ]
  },
  {
   "cell_type": "code",
   "execution_count": 77,
   "id": "37afd659-4e50-492f-8981-72a4a54da11c",
   "metadata": {},
   "outputs": [
    {
     "data": {
      "text/plain": [
       "2"
      ]
     },
     "execution_count": 77,
     "metadata": {},
     "output_type": "execute_result"
    }
   ],
   "source": [
    "from collections import Counter\n",
    "\n",
    "lista = [\"R\",\"R\",\"N\"]\n",
    "\n",
    "mydic = dict(Counter(lista))\n",
    "len(mydic)"
   ]
  },
  {
   "cell_type": "code",
   "execution_count": 79,
   "id": "2adac379-d72d-4eae-aec1-7f48659167d5",
   "metadata": {},
   "outputs": [
    {
     "name": "stdout",
     "output_type": "stream",
     "text": [
      "{'D', 'B', 'C', 'A'}\n"
     ]
    }
   ],
   "source": [
    "myset = {\"A\",\"B\",\"C\",\"D\",\"A\"}\n",
    "print(myset)"
   ]
  },
  {
   "cell_type": "code",
   "execution_count": 80,
   "id": "cb6fe53b-2a78-42b1-a619-1dd7ac039639",
   "metadata": {},
   "outputs": [],
   "source": [
    "myset = set()"
   ]
  },
  {
   "cell_type": "code",
   "execution_count": 81,
   "id": "3fc6b226-5cfc-4440-8eae-917779abf74f",
   "metadata": {},
   "outputs": [
    {
     "name": "stdout",
     "output_type": "stream",
     "text": [
      "1\n",
      "2\n",
      "3\n",
      "4\n",
      "5\n",
      "6\n",
      "7\n"
     ]
    }
   ],
   "source": [
    "lista = [1,2,3,4,5,6,7]\n",
    "for elemento in lista:\n",
    "    print(elemento)"
   ]
  },
  {
   "cell_type": "code",
   "execution_count": 83,
   "id": "ea2c5d1a-f7db-42ef-abcb-5fb2af5b650c",
   "metadata": {},
   "outputs": [
    {
     "name": "stdout",
     "output_type": "stream",
     "text": [
      "[ 8 , 0 ]\n",
      "[ -1 , 9 ]\n"
     ]
    }
   ],
   "source": [
    "lista = [8,2,10,0,-1,9]\n",
    "target = 8\n",
    "\n",
    "visitados = set()\n",
    "\n",
    "for numero in lista:\n",
    "    if target - numero in visitados:\n",
    "        print(f\"[ {target - numero} , {numero} ]\")\n",
    "    visitados.add(numero)    "
   ]
  },
  {
   "cell_type": "code",
   "execution_count": null,
   "id": "2e41531c-5d15-4f01-b53f-ab374ea6758b",
   "metadata": {},
   "outputs": [],
   "source": []
  }
 ],
 "metadata": {
  "kernelspec": {
   "display_name": "Python 3 (ipykernel)",
   "language": "python",
   "name": "python3"
  },
  "language_info": {
   "codemirror_mode": {
    "name": "ipython",
    "version": 3
   },
   "file_extension": ".py",
   "mimetype": "text/x-python",
   "name": "python",
   "nbconvert_exporter": "python",
   "pygments_lexer": "ipython3",
   "version": "3.12.4"
  }
 },
 "nbformat": 4,
 "nbformat_minor": 5
}
