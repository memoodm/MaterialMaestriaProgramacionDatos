{
 "cells": [
  {
   "cell_type": "code",
   "execution_count": 83,
   "id": "fdcbe67e-349d-4197-952f-95d28567558e",
   "metadata": {},
   "outputs": [],
   "source": [
    "class Persona:\n",
    "\n",
    "    def __init__(self,nombre,apellido,edad):\n",
    "\n",
    "        if not isinstance(nombre,str):\n",
    "            raise Exception(\"Nombre debe ser string\")\n",
    "        if not isinstance(apellido,str):\n",
    "            raise Exception(\"Apellido debe ser string\")\n",
    "        if not isinstance(edad,int):\n",
    "            raise Exception(\"Edad debe ser numerica entero\")    \n",
    "            \n",
    "        self.nombre = nombre\n",
    "        self.apellido = apellido\n",
    "        self.edad = edad\n",
    "\n",
    "    def cumplir_anios(self):\n",
    "        self.edad = self.edad + 1\n",
    "\n",
    "    def cumplir_anios_x(self,anios):\n",
    "        self.edad = self.edad + anios\n",
    "    \n",
    "    def __str__(self):\n",
    "        return f\"Nombre: {self.nombre}, Apellido: {self.apellido}, Edad: {self.edad}\"\n",
    "\n",
    "    def __repr__(self):\n",
    "       return self.__str__() \n",
    "\n",
    "    def __eq__(self,other):\n",
    "        if isinstance(other,Persona):\n",
    "            if self.nombre == other.nombre:\n",
    "                if self.apellido == other.apellido:\n",
    "                    if self.edad == other.edad:\n",
    "                        return True\n",
    "        return False"
   ]
  },
  {
   "cell_type": "code",
   "execution_count": 84,
   "id": "5f1f42da-bd54-43e6-8bcb-174bb7bc5549",
   "metadata": {},
   "outputs": [],
   "source": [
    "p1 = Persona(\"Mario\",\"Bross\",50) \n",
    "p2 = Persona(\"Mario\",\"Bross\",50)"
   ]
  },
  {
   "cell_type": "code",
   "execution_count": 85,
   "id": "36fe6526-279a-4522-97f3-ef9c258683e0",
   "metadata": {},
   "outputs": [
    {
     "name": "stdout",
     "output_type": "stream",
     "text": [
      "Nombre: Mario, Apellido: Bross, Edad: 50\n",
      "Nombre: Mario, Apellido: Bross, Edad: 50\n"
     ]
    }
   ],
   "source": [
    "print(p1)\n",
    "print(p2)"
   ]
  },
  {
   "cell_type": "code",
   "execution_count": 86,
   "id": "a86c17bc-e5c3-4d8c-ab1b-5aaf9a78b95c",
   "metadata": {},
   "outputs": [
    {
     "name": "stdout",
     "output_type": "stream",
     "text": [
      "False\n"
     ]
    }
   ],
   "source": [
    "print(\"\"==p2)"
   ]
  },
  {
   "cell_type": "code",
   "execution_count": 87,
   "id": "9740cf31-4ae9-4639-84a1-c879ecf88c65",
   "metadata": {},
   "outputs": [
    {
     "name": "stdout",
     "output_type": "stream",
     "text": [
      "[Nombre: Mario, Apellido: Bross, Edad: 50, Nombre: Mario, Apellido: Bross, Edad: 50]\n"
     ]
    }
   ],
   "source": [
    "lista = [p1,p2]\n",
    "print(lista)"
   ]
  },
  {
   "cell_type": "code",
   "execution_count": 88,
   "id": "c7220513-e48c-4040-9e6a-40f9859985c6",
   "metadata": {},
   "outputs": [
    {
     "name": "stdout",
     "output_type": "stream",
     "text": [
      "Nombre: Mario, Apellido: Bross, Edad: 50\n",
      "Nombre: Mario, Apellido: Bross, Edad: 51\n",
      "Nombre: Mario, Apellido: Bross, Edad: 56\n"
     ]
    }
   ],
   "source": [
    "print(p1)\n",
    "p1.cumplir_anios()\n",
    "print(p1)\n",
    "p1.cumplir_anios_x(5)\n",
    "print(p1)"
   ]
  },
  {
   "cell_type": "code",
   "execution_count": null,
   "id": "c92e8ee1-0f81-4c55-b403-35f7283f82f2",
   "metadata": {},
   "outputs": [],
   "source": []
  }
 ],
 "metadata": {
  "kernelspec": {
   "display_name": "Python 3 (ipykernel)",
   "language": "python",
   "name": "python3"
  },
  "language_info": {
   "codemirror_mode": {
    "name": "ipython",
    "version": 3
   },
   "file_extension": ".py",
   "mimetype": "text/x-python",
   "name": "python",
   "nbconvert_exporter": "python",
   "pygments_lexer": "ipython3",
   "version": "3.12.4"
  }
 },
 "nbformat": 4,
 "nbformat_minor": 5
}
