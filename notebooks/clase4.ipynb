{
 "cells": [
  {
   "cell_type": "code",
   "execution_count": 1,
   "id": "1288663d-026f-4a6f-b5c1-ac5b727363f5",
   "metadata": {},
   "outputs": [],
   "source": [
    "numeros_telefonicos = {}"
   ]
  },
  {
   "cell_type": "code",
   "execution_count": 4,
   "id": "96c34102-f548-405f-97ee-bdb09a238ec6",
   "metadata": {},
   "outputs": [],
   "source": [
    "numeros_telefonicos[\"Mario\"] = 3001001001\n",
    "numeros_telefonicos[\"Bowser\"] = 3201122331\n",
    "numeros_telefonicos[\"Peach\"] = 3019090901"
   ]
  },
  {
   "cell_type": "code",
   "execution_count": 5,
   "id": "4cc1af44-717f-4f14-95a1-989cd668bb73",
   "metadata": {},
   "outputs": [
    {
     "name": "stdout",
     "output_type": "stream",
     "text": [
      "{'Mario': 3001001001, 'Bowser': 3201122331, 'Peach': 3019090901}\n"
     ]
    }
   ],
   "source": [
    "print(numeros_telefonicos)"
   ]
  },
  {
   "cell_type": "code",
   "execution_count": 6,
   "id": "397b17cb-4c95-4a27-8832-c0523751c4e7",
   "metadata": {},
   "outputs": [
    {
     "name": "stdout",
     "output_type": "stream",
     "text": [
      "3001001001\n"
     ]
    }
   ],
   "source": [
    "print( numeros_telefonicos[\"Mario\"] )"
   ]
  },
  {
   "cell_type": "code",
   "execution_count": 7,
   "id": "b7a98db0-6d3f-48d6-8266-7fde04ed3797",
   "metadata": {},
   "outputs": [
    {
     "data": {
      "text/plain": [
       "dict_keys(['Mario', 'Bowser', 'Peach'])"
      ]
     },
     "execution_count": 7,
     "metadata": {},
     "output_type": "execute_result"
    }
   ],
   "source": [
    "numeros_telefonicos.keys()"
   ]
  },
  {
   "cell_type": "code",
   "execution_count": 9,
   "id": "556fd92b-bd3e-4d89-abdb-52b7ff431e53",
   "metadata": {},
   "outputs": [
    {
     "name": "stdout",
     "output_type": "stream",
     "text": [
      "Mario 3001001001\n",
      "Bowser 3201122331\n",
      "Peach 3019090901\n"
     ]
    }
   ],
   "source": [
    "for llave in numeros_telefonicos.keys():\n",
    "    print(llave,numeros_telefonicos[llave])"
   ]
  },
  {
   "cell_type": "code",
   "execution_count": 21,
   "id": "c043cc21-9a56-4640-a8d5-e0225d58026b",
   "metadata": {},
   "outputs": [
    {
     "name": "stdout",
     "output_type": "stream",
     "text": [
      "{'l': 1, 'a': 3, 'r': 1, 'o': 1, 's': 4, 't': 1, 'i': 2, 'e': 3, 'n': 3, 'p': 1}\n"
     ]
    }
   ],
   "source": [
    "texto = \"la rósas tiénen éspinas!\"\n",
    "conteo = {}\n",
    "\n",
    "limpieza = {\"á\": \"a\", \"é\": \"e\", \"í\": \"i\", \"ó\": \"o\", \"ú\": \"u\"}\n",
    "caracteres_prohibidos = {\"!\",\"#\",\" \",\".\",\",\"}\n",
    "\n",
    "for i in range(0,len(texto)):\n",
    "    \n",
    "    caracter = texto[i]\n",
    "    if caracter in limpieza:\n",
    "        caracter = limpieza[caracter]\n",
    "\n",
    "    if caracter in caracteres_prohibidos:\n",
    "        continue\n",
    "    \n",
    "    if caracter in conteo:\n",
    "        conteo[caracter] = conteo[caracter] + 1\n",
    "    else:\n",
    "        conteo[caracter] = 1\n",
    "\n",
    "print(conteo)"
   ]
  },
  {
   "cell_type": "code",
   "execution_count": 26,
   "id": "fb29b1d4-fab9-426d-b91c-09cba05d18d0",
   "metadata": {},
   "outputs": [],
   "source": [
    "def sumar(n1,n2,f1):\n",
    "    return n1+n2\n",
    "\n",
    "def restar(n1,n2):\n",
    "    return n1-n2\n",
    "\n",
    "def multiplicar(n1,n2):\n",
    "    return n1*n2\n",
    "\n",
    "def dividir(n1,n2):\n",
    "    return n1/n2"
   ]
  },
  {
   "cell_type": "code",
   "execution_count": 25,
   "id": "716cbcc6-aabf-49b7-8596-bdc762288540",
   "metadata": {},
   "outputs": [
    {
     "data": {
      "text/plain": [
       "-1"
      ]
     },
     "execution_count": 25,
     "metadata": {},
     "output_type": "execute_result"
    }
   ],
   "source": [
    "operaciones = {\"+\": sumar, \"-\": restar, }"
   ]
  },
  {
   "cell_type": "code",
   "execution_count": 27,
   "id": "9ec2c4f8-c7b3-4b22-9eff-1863f6a0e3d9",
   "metadata": {},
   "outputs": [],
   "source": [
    "def contar_caracteres(texto):\n",
    "    conteo = {}\n",
    "\n",
    "    limpieza = {\"á\": \"a\", \"é\": \"e\", \"í\": \"i\", \"ó\": \"o\", \"ú\": \"u\"}\n",
    "    caracteres_prohibidos = {\"!\",\"#\",\" \",\".\",\",\"}\n",
    "    \n",
    "    for i in range(0,len(texto)):\n",
    "        \n",
    "        caracter = texto[i]\n",
    "        if caracter in limpieza:\n",
    "            caracter = limpieza[caracter]\n",
    "    \n",
    "        if caracter in caracteres_prohibidos:\n",
    "            continue\n",
    "        \n",
    "        if caracter in conteo:\n",
    "            conteo[caracter] = conteo[caracter] + 1\n",
    "        else:\n",
    "            conteo[caracter] = 1\n",
    "\n",
    "    return conteo"
   ]
  },
  {
   "cell_type": "code",
   "execution_count": 28,
   "id": "f6206b09-0c11-4a2d-881c-1e29d1d348d2",
   "metadata": {},
   "outputs": [
    {
     "data": {
      "text/plain": [
       "{'l': 1,\n",
       " 'a': 3,\n",
       " 'r': 1,\n",
       " 'o': 1,\n",
       " 's': 4,\n",
       " 't': 1,\n",
       " 'i': 2,\n",
       " 'e': 3,\n",
       " 'n': 3,\n",
       " 'p': 1}"
      ]
     },
     "execution_count": 28,
     "metadata": {},
     "output_type": "execute_result"
    }
   ],
   "source": [
    "t = \"la rósas tiénen éspinas!\"\n",
    "contar_caracteres(t)"
   ]
  },
  {
   "cell_type": "code",
   "execution_count": 29,
   "id": "0039cd46-1d66-40bf-8440-83d1f97eebcf",
   "metadata": {},
   "outputs": [
    {
     "data": {
      "text/plain": [
       "{'l': 2,\n",
       " 'a': 4,\n",
       " 'u': 2,\n",
       " 'n': 1,\n",
       " 'e': 4,\n",
       " 's': 2,\n",
       " 't': 1,\n",
       " 'c': 1,\n",
       " 'h': 1,\n",
       " 'd': 1,\n",
       " 'q': 1,\n",
       " 'o': 1}"
      ]
     },
     "execution_count": 29,
     "metadata": {},
     "output_type": "execute_result"
    }
   ],
   "source": [
    "t = \"la luna esta echa de queso\"\n",
    "contar_caracteres(t)"
   ]
  },
  {
   "cell_type": "code",
   "execution_count": 30,
   "id": "49520730-a230-476e-be53-afbd575f1a27",
   "metadata": {},
   "outputs": [],
   "source": [
    "def contar_caracteres(texto,caracteres_prohibidos):\n",
    "    conteo = {}\n",
    "\n",
    "    limpieza = {\"á\": \"a\", \"é\": \"e\", \"í\": \"i\", \"ó\": \"o\", \"ú\": \"u\"}\n",
    "    \n",
    "    for i in range(0,len(texto)):\n",
    "        \n",
    "        caracter = texto[i]\n",
    "        if caracter in limpieza:\n",
    "            caracter = limpieza[caracter]\n",
    "    \n",
    "        if caracter in caracteres_prohibidos:\n",
    "            continue\n",
    "        \n",
    "        if caracter in conteo:\n",
    "            conteo[caracter] = conteo[caracter] + 1\n",
    "        else:\n",
    "            conteo[caracter] = 1\n",
    "\n",
    "    return conteo"
   ]
  },
  {
   "cell_type": "code",
   "execution_count": 31,
   "id": "ce2f4439-49a9-424f-90fe-ea036ee16cc0",
   "metadata": {},
   "outputs": [
    {
     "data": {
      "text/plain": [
       "{'l': 1,\n",
       " 'a': 3,\n",
       " 'r': 1,\n",
       " 'o': 1,\n",
       " 's': 4,\n",
       " 't': 1,\n",
       " 'i': 2,\n",
       " 'e': 3,\n",
       " 'n': 3,\n",
       " 'p': 1,\n",
       " '!': 1}"
      ]
     },
     "execution_count": 31,
     "metadata": {},
     "output_type": "execute_result"
    }
   ],
   "source": [
    "caracteres_prohibidos = {\"#\",\" \",\".\",\",\"}\n",
    "t = \"la rósas tiénen éspinas!\"\n",
    "contar_caracteres(t, caracteres_prohibidos)"
   ]
  },
  {
   "cell_type": "code",
   "execution_count": 33,
   "id": "95684e01-6dc2-4384-8273-fcc603f66eb6",
   "metadata": {},
   "outputs": [
    {
     "data": {
      "text/plain": [
       "256"
      ]
     },
     "execution_count": 33,
     "metadata": {},
     "output_type": "execute_result"
    }
   ],
   "source": [
    "def potencias(n,p=2):\n",
    "    return n ** p\n",
    "\n",
    "potencias(2,8)"
   ]
  },
  {
   "cell_type": "code",
   "execution_count": 34,
   "id": "e1e4076d-ca78-4337-bce1-a95fa36d4fd6",
   "metadata": {},
   "outputs": [
    {
     "data": {
      "text/plain": [
       "100"
      ]
     },
     "execution_count": 34,
     "metadata": {},
     "output_type": "execute_result"
    }
   ],
   "source": [
    "potencias(10)"
   ]
  },
  {
   "cell_type": "code",
   "execution_count": 45,
   "id": "bddd4b75-bc02-4f0f-9b6c-7890e8a1af24",
   "metadata": {},
   "outputs": [
    {
     "name": "stdout",
     "output_type": "stream",
     "text": [
      "!\n",
      "12\n"
     ]
    }
   ],
   "source": [
    "def encontrar_caracter_especial(texto):\n",
    "    alfabeto_espanol = [' ' ,\n",
    "                        'a', \n",
    "                        'b', \n",
    "                        'c', 'd', 'e', 'f', 'g', 'h', 'i', 'j', 'k', 'l', 'm', 'n', 'ñ', 'o', 'p', 'q', 'r', 's', 't', 'u', 'v', 'w', 'x', 'y', 'z']\n",
    "    for i in range(0,len(texto)):\n",
    "        caracter = texto[i]\n",
    "        caracter = caracter.lower()\n",
    "        if caracter not in alfabeto_espanol:\n",
    "            return caracter, i\n",
    "    return \"\", -1        \n",
    "\n",
    "c , i = encontrar_caracter_especial(\"La luna Esta! echa de queso\")\n",
    "print(c)\n",
    "print(i)"
   ]
  },
  {
   "cell_type": "code",
   "execution_count": 46,
   "id": "72cb6d55-9b1c-42b5-94ad-eb5e70539510",
   "metadata": {},
   "outputs": [
    {
     "data": {
      "text/plain": [
       "720"
      ]
     },
     "execution_count": 46,
     "metadata": {},
     "output_type": "execute_result"
    }
   ],
   "source": [
    "def factorial(n):\n",
    "    r = 1\n",
    "    for i in range(1,n+1):\n",
    "        r *= i\n",
    "    return r\n",
    "\n",
    "factorial(6)"
   ]
  },
  {
   "cell_type": "code",
   "execution_count": 47,
   "id": "e83acb0f-3b95-455e-bcd3-2de126f7e984",
   "metadata": {},
   "outputs": [
    {
     "data": {
      "text/plain": [
       "120"
      ]
     },
     "execution_count": 47,
     "metadata": {},
     "output_type": "execute_result"
    }
   ],
   "source": [
    "factorial(5)"
   ]
  },
  {
   "cell_type": "code",
   "execution_count": 48,
   "id": "b6d60196-36c6-4ab1-9bb6-1dff9825c5a0",
   "metadata": {},
   "outputs": [
    {
     "data": {
      "text/plain": [
       "720"
      ]
     },
     "execution_count": 48,
     "metadata": {},
     "output_type": "execute_result"
    }
   ],
   "source": [
    "def factorial_recursivo(n):\n",
    "    if n == 0:\n",
    "        return 1\n",
    "    else:\n",
    "        return n * factorial_recursivo(n-1)\n",
    "\n",
    "factorial_recursivo(6)"
   ]
  },
  {
   "cell_type": "code",
   "execution_count": 49,
   "id": "9fb258a7-49e4-4eb0-b88e-a48d6db5554a",
   "metadata": {},
   "outputs": [
    {
     "ename": "ZeroDivisionError",
     "evalue": "division by zero",
     "output_type": "error",
     "traceback": [
      "\u001b[1;31m---------------------------------------------------------------------------\u001b[0m",
      "\u001b[1;31mZeroDivisionError\u001b[0m                         Traceback (most recent call last)",
      "Cell \u001b[1;32mIn[49], line 1\u001b[0m\n\u001b[1;32m----> 1\u001b[0m r \u001b[38;5;241m=\u001b[39m \u001b[38;5;241m10\u001b[39m \u001b[38;5;241m/\u001b[39m \u001b[38;5;241m0\u001b[39m\n",
      "\u001b[1;31mZeroDivisionError\u001b[0m: division by zero"
     ]
    }
   ],
   "source": [
    "r = 10 / 0"
   ]
  },
  {
   "cell_type": "code",
   "execution_count": 50,
   "id": "a141a9de-4a7d-489f-973c-8befe13f6217",
   "metadata": {},
   "outputs": [
    {
     "ename": "IndexError",
     "evalue": "list index out of range",
     "output_type": "error",
     "traceback": [
      "\u001b[1;31m---------------------------------------------------------------------------\u001b[0m",
      "\u001b[1;31mIndexError\u001b[0m                                Traceback (most recent call last)",
      "Cell \u001b[1;32mIn[50], line 2\u001b[0m\n\u001b[0;32m      1\u001b[0m l \u001b[38;5;241m=\u001b[39m [\u001b[38;5;241m0\u001b[39m,\u001b[38;5;241m1\u001b[39m,\u001b[38;5;241m2\u001b[39m]\n\u001b[1;32m----> 2\u001b[0m l[\u001b[38;5;241m500\u001b[39m]\n",
      "\u001b[1;31mIndexError\u001b[0m: list index out of range"
     ]
    }
   ],
   "source": [
    "l = [0,1,2]\n",
    "l[500]"
   ]
  },
  {
   "cell_type": "code",
   "execution_count": 51,
   "id": "4525b3a8-94b8-4159-b1f2-dea24e611807",
   "metadata": {},
   "outputs": [
    {
     "ename": "ValueError",
     "evalue": "invalid literal for int() with base 10: 'hola'",
     "output_type": "error",
     "traceback": [
      "\u001b[1;31m---------------------------------------------------------------------------\u001b[0m",
      "\u001b[1;31mValueError\u001b[0m                                Traceback (most recent call last)",
      "Cell \u001b[1;32mIn[51], line 1\u001b[0m\n\u001b[1;32m----> 1\u001b[0m n \u001b[38;5;241m=\u001b[39m \u001b[38;5;28mint\u001b[39m(\u001b[38;5;124m\"\u001b[39m\u001b[38;5;124mhola\u001b[39m\u001b[38;5;124m\"\u001b[39m)\n",
      "\u001b[1;31mValueError\u001b[0m: invalid literal for int() with base 10: 'hola'"
     ]
    }
   ],
   "source": [
    "n = int(\"hola\")"
   ]
  },
  {
   "cell_type": "code",
   "execution_count": 52,
   "id": "63ea3a01-5ab6-450a-9bba-ab1e78551022",
   "metadata": {},
   "outputs": [
    {
     "name": "stdout",
     "output_type": "stream",
     "text": [
      "A\n"
     ]
    },
    {
     "ename": "ZeroDivisionError",
     "evalue": "division by zero",
     "output_type": "error",
     "traceback": [
      "\u001b[1;31m---------------------------------------------------------------------------\u001b[0m",
      "\u001b[1;31mZeroDivisionError\u001b[0m                         Traceback (most recent call last)",
      "Cell \u001b[1;32mIn[52], line 2\u001b[0m\n\u001b[0;32m      1\u001b[0m \u001b[38;5;28mprint\u001b[39m(\u001b[38;5;124m\"\u001b[39m\u001b[38;5;124mA\u001b[39m\u001b[38;5;124m\"\u001b[39m)\n\u001b[1;32m----> 2\u001b[0m r \u001b[38;5;241m=\u001b[39m \u001b[38;5;241m10\u001b[39m \u001b[38;5;241m/\u001b[39m \u001b[38;5;241m0\u001b[39m\n\u001b[0;32m      3\u001b[0m \u001b[38;5;28mprint\u001b[39m(\u001b[38;5;124m\"\u001b[39m\u001b[38;5;124mB\u001b[39m\u001b[38;5;124m\"\u001b[39m)\n",
      "\u001b[1;31mZeroDivisionError\u001b[0m: division by zero"
     ]
    }
   ],
   "source": [
    "print(\"A\")\n",
    "r = 10 / 0\n",
    "print(\"B\")"
   ]
  },
  {
   "cell_type": "code",
   "execution_count": 63,
   "id": "cf08dd05-5a2a-4f25-8ae2-f4caef2091b8",
   "metadata": {},
   "outputs": [
    {
     "name": "stdout",
     "output_type": "stream",
     "text": [
      "inicio\n",
      "---------------------\n"
     ]
    },
    {
     "name": "stdin",
     "output_type": "stream",
     "text": [
      "Numero1:  mas\n"
     ]
    },
    {
     "name": "stdout",
     "output_type": "stream",
     "text": [
      "Favor ingresar numeros en el campo numero1 o numero2\n",
      "---------------------\n"
     ]
    },
    {
     "name": "stdin",
     "output_type": "stream",
     "text": [
      "Numero1:  10\n",
      "Operacion:  /\n",
      "Numero2:  0\n"
     ]
    },
    {
     "name": "stdout",
     "output_type": "stream",
     "text": [
      "No es posible dividir sobre 0\n",
      "---------------------\n"
     ]
    },
    {
     "ename": "KeyboardInterrupt",
     "evalue": "Interrupted by user",
     "output_type": "error",
     "traceback": [
      "\u001b[1;31m---------------------------------------------------------------------------\u001b[0m",
      "\u001b[1;31mKeyboardInterrupt\u001b[0m                         Traceback (most recent call last)",
      "Cell \u001b[1;32mIn[63], line 31\u001b[0m\n\u001b[0;32m     28\u001b[0m     \u001b[38;5;28;01mreturn\u001b[39;00m repsuesta    \n\u001b[0;32m     30\u001b[0m \u001b[38;5;28mprint\u001b[39m(\u001b[38;5;124m\"\u001b[39m\u001b[38;5;124minicio\u001b[39m\u001b[38;5;124m\"\u001b[39m)\n\u001b[1;32m---> 31\u001b[0m repsuesta \u001b[38;5;241m=\u001b[39m calculadora()\n\u001b[0;32m     32\u001b[0m \u001b[38;5;28mprint\u001b[39m(\u001b[38;5;124mf\u001b[39m\u001b[38;5;124m\"\u001b[39m\u001b[38;5;124mLa repsuesta es \u001b[39m\u001b[38;5;132;01m{\u001b[39;00mrepsuesta\u001b[38;5;132;01m}\u001b[39;00m\u001b[38;5;124m\"\u001b[39m)\n\u001b[0;32m     33\u001b[0m \u001b[38;5;28mprint\u001b[39m(\u001b[38;5;124m\"\u001b[39m\u001b[38;5;124mfinal\u001b[39m\u001b[38;5;124m\"\u001b[39m)\n",
      "Cell \u001b[1;32mIn[63], line 6\u001b[0m, in \u001b[0;36mcalculadora\u001b[1;34m()\u001b[0m\n\u001b[0;32m      4\u001b[0m \u001b[38;5;28;01mtry\u001b[39;00m:\n\u001b[0;32m      5\u001b[0m     \u001b[38;5;28mprint\u001b[39m(\u001b[38;5;124m\"\u001b[39m\u001b[38;5;124m---------------------\u001b[39m\u001b[38;5;124m\"\u001b[39m)\n\u001b[1;32m----> 6\u001b[0m     numero1 \u001b[38;5;241m=\u001b[39m \u001b[38;5;28mfloat\u001b[39m(\u001b[38;5;28minput\u001b[39m(\u001b[38;5;124m\"\u001b[39m\u001b[38;5;124mNumero1: \u001b[39m\u001b[38;5;124m\"\u001b[39m))\n\u001b[0;32m      7\u001b[0m     operacion \u001b[38;5;241m=\u001b[39m \u001b[38;5;28minput\u001b[39m(\u001b[38;5;124m\"\u001b[39m\u001b[38;5;124mOperacion: \u001b[39m\u001b[38;5;124m\"\u001b[39m)\n\u001b[0;32m      8\u001b[0m     numero2 \u001b[38;5;241m=\u001b[39m \u001b[38;5;28mfloat\u001b[39m(\u001b[38;5;28minput\u001b[39m(\u001b[38;5;124m\"\u001b[39m\u001b[38;5;124mNumero2: \u001b[39m\u001b[38;5;124m\"\u001b[39m))\n",
      "File \u001b[1;32mC:\\ProgramData\\anaconda3\\Lib\\site-packages\\ipykernel\\kernelbase.py:1262\u001b[0m, in \u001b[0;36mKernel.raw_input\u001b[1;34m(self, prompt)\u001b[0m\n\u001b[0;32m   1260\u001b[0m     msg \u001b[38;5;241m=\u001b[39m \u001b[38;5;124m\"\u001b[39m\u001b[38;5;124mraw_input was called, but this frontend does not support input requests.\u001b[39m\u001b[38;5;124m\"\u001b[39m\n\u001b[0;32m   1261\u001b[0m     \u001b[38;5;28;01mraise\u001b[39;00m StdinNotImplementedError(msg)\n\u001b[1;32m-> 1262\u001b[0m \u001b[38;5;28;01mreturn\u001b[39;00m \u001b[38;5;28mself\u001b[39m\u001b[38;5;241m.\u001b[39m_input_request(\n\u001b[0;32m   1263\u001b[0m     \u001b[38;5;28mstr\u001b[39m(prompt),\n\u001b[0;32m   1264\u001b[0m     \u001b[38;5;28mself\u001b[39m\u001b[38;5;241m.\u001b[39m_parent_ident[\u001b[38;5;124m\"\u001b[39m\u001b[38;5;124mshell\u001b[39m\u001b[38;5;124m\"\u001b[39m],\n\u001b[0;32m   1265\u001b[0m     \u001b[38;5;28mself\u001b[39m\u001b[38;5;241m.\u001b[39mget_parent(\u001b[38;5;124m\"\u001b[39m\u001b[38;5;124mshell\u001b[39m\u001b[38;5;124m\"\u001b[39m),\n\u001b[0;32m   1266\u001b[0m     password\u001b[38;5;241m=\u001b[39m\u001b[38;5;28;01mFalse\u001b[39;00m,\n\u001b[0;32m   1267\u001b[0m )\n",
      "File \u001b[1;32mC:\\ProgramData\\anaconda3\\Lib\\site-packages\\ipykernel\\kernelbase.py:1305\u001b[0m, in \u001b[0;36mKernel._input_request\u001b[1;34m(self, prompt, ident, parent, password)\u001b[0m\n\u001b[0;32m   1302\u001b[0m \u001b[38;5;28;01mexcept\u001b[39;00m \u001b[38;5;167;01mKeyboardInterrupt\u001b[39;00m:\n\u001b[0;32m   1303\u001b[0m     \u001b[38;5;66;03m# re-raise KeyboardInterrupt, to truncate traceback\u001b[39;00m\n\u001b[0;32m   1304\u001b[0m     msg \u001b[38;5;241m=\u001b[39m \u001b[38;5;124m\"\u001b[39m\u001b[38;5;124mInterrupted by user\u001b[39m\u001b[38;5;124m\"\u001b[39m\n\u001b[1;32m-> 1305\u001b[0m     \u001b[38;5;28;01mraise\u001b[39;00m \u001b[38;5;167;01mKeyboardInterrupt\u001b[39;00m(msg) \u001b[38;5;28;01mfrom\u001b[39;00m \u001b[38;5;28;01mNone\u001b[39;00m\n\u001b[0;32m   1306\u001b[0m \u001b[38;5;28;01mexcept\u001b[39;00m \u001b[38;5;167;01mException\u001b[39;00m:\n\u001b[0;32m   1307\u001b[0m     \u001b[38;5;28mself\u001b[39m\u001b[38;5;241m.\u001b[39mlog\u001b[38;5;241m.\u001b[39mwarning(\u001b[38;5;124m\"\u001b[39m\u001b[38;5;124mInvalid Message:\u001b[39m\u001b[38;5;124m\"\u001b[39m, exc_info\u001b[38;5;241m=\u001b[39m\u001b[38;5;28;01mTrue\u001b[39;00m)\n",
      "\u001b[1;31mKeyboardInterrupt\u001b[0m: Interrupted by user"
     ]
    }
   ],
   "source": [
    "def calculadora():\n",
    "    repsuesta = None\n",
    "    while True:\n",
    "        try:\n",
    "            print(\"---------------------\")\n",
    "            numero1 = float(input(\"Numero1: \"))\n",
    "            operacion = input(\"Operacion: \")\n",
    "            numero2 = float(input(\"Numero2: \"))\n",
    "\n",
    "            if operacion == \"+\":\n",
    "                repsuesta = numero1+numero2\n",
    "            elif operacion == \"-\":\n",
    "                repsuesta = numero1-numero2\n",
    "            elif operacion == \"*\":\n",
    "                repsuesta = numero1*numero2\n",
    "            elif operacion == \"/\":\n",
    "                repsuesta = numero1/numero2\n",
    "            else:\n",
    "                raise Exception(\"la operacion no esta definida\")\n",
    "\n",
    "            break\n",
    "                \n",
    "        except ValueError:\n",
    "            print(\"Favor ingresar numeros en el campo numero1 o numero2\")\n",
    "        except ZeroDivisionError:\n",
    "            print(\"No es posible dividir sobre 0\")\n",
    "            \n",
    "    return repsuesta    \n",
    "\n",
    "print(\"inicio\")\n",
    "repsuesta = calculadora()\n",
    "print(f\"La repsuesta es {repsuesta}\")\n",
    "print(\"final\")\n"
   ]
  },
  {
   "cell_type": "code",
   "execution_count": null,
   "id": "defdb86e-9ce1-4ed6-b897-bd2f56697908",
   "metadata": {},
   "outputs": [],
   "source": []
  }
 ],
 "metadata": {
  "kernelspec": {
   "display_name": "Python 3 (ipykernel)",
   "language": "python",
   "name": "python3"
  },
  "language_info": {
   "codemirror_mode": {
    "name": "ipython",
    "version": 3
   },
   "file_extension": ".py",
   "mimetype": "text/x-python",
   "name": "python",
   "nbconvert_exporter": "python",
   "pygments_lexer": "ipython3",
   "version": "3.12.4"
  }
 },
 "nbformat": 4,
 "nbformat_minor": 5
}
